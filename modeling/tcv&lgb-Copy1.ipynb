{
 "cells": [
  {
   "cell_type": "code",
   "execution_count": 16,
   "metadata": {
    "ExecuteTime": {
     "end_time": "2020-09-11T02:23:54.810043Z",
     "start_time": "2020-09-11T02:23:54.792088Z"
    }
   },
   "outputs": [],
   "source": [
    "import pandas as pd\n",
    "import numpy as np\n",
    "import lightgbm as lgb\n",
    "from sklearn.metrics import f1_score\n",
    "import warnings\n",
    "warnings.filterwarnings(\"ignore\", category=UserWarning)"
   ]
  },
  {
   "cell_type": "code",
   "execution_count": 2,
   "metadata": {
    "ExecuteTime": {
     "end_time": "2020-09-11T01:07:55.069196Z",
     "start_time": "2020-09-11T01:07:53.530748Z"
    }
   },
   "outputs": [],
   "source": [
    "train_df = pd.read_csv(\"./data/train1.csv\")\n",
    "test_df = pd.read_csv(\"./data/test1.csv\")"
   ]
  },
  {
   "cell_type": "code",
   "execution_count": 3,
   "metadata": {
    "ExecuteTime": {
     "end_time": "2020-09-11T01:07:55.163940Z",
     "start_time": "2020-09-11T01:07:55.072187Z"
    }
   },
   "outputs": [],
   "source": [
    "train_df = train_df.drop(['ID'], axis=1)"
   ]
  },
  {
   "cell_type": "code",
   "execution_count": 4,
   "metadata": {
    "ExecuteTime": {
     "end_time": "2020-09-11T01:07:55.195858Z",
     "start_time": "2020-09-11T01:07:55.167931Z"
    }
   },
   "outputs": [
    {
     "data": {
      "text/plain": [
       "Index(['ac_ctr_diff', 'hsp_avg_optt_bilg_isamt_s',\n",
       "       'hsp_avg_surop_bilg_isamt_s', 'fds_cust_yn', 'hspz_dys_s', 'inamt_nvcd',\n",
       "       'hsp_avg_diag_bilg_isamt_s', 'blrs_cd', 'dsas_ltwt_gcd',\n",
       "       'dsas_avg_diag_bilg_isamt_s', 'dsas_acd_rst_dcd', 'base_ym', 'kcd_gcd',\n",
       "       'hsp_avg_hspz_bilg_isamt_s', 'mtad_cntr_yn', 'surop_blcnt_s',\n",
       "       'dsas_avg_optt_bilg_isamt_s', 'isrd_age_dcd', 'hspz_blcnt_s',\n",
       "       'dsas_avg_surop_bilg_isamt_s', 'dsas_avg_hspz_bilg_isamt_s',\n",
       "       'bilg_isamt_s', 'target'],\n",
       "      dtype='object')"
      ]
     },
     "execution_count": 4,
     "metadata": {},
     "output_type": "execute_result"
    }
   ],
   "source": [
    "train_df.columns"
   ]
  },
  {
   "cell_type": "code",
   "execution_count": 5,
   "metadata": {
    "ExecuteTime": {
     "end_time": "2020-09-11T01:07:55.205830Z",
     "start_time": "2020-09-11T01:07:55.199845Z"
    }
   },
   "outputs": [],
   "source": [
    "category_list=[\"dsas_ltwt_gcd\", \"kcd_gcd\", \"dsas_acd_rst_dcd\",\n",
    "              \"blrs_cd\", \"isrd_age_dcd\",\"mtad_cntr_yn\", \n",
    "               \"fds_cust_yn\", \"inamt_nvcd\", \"ac_ctr_diff\"]"
   ]
  },
  {
   "cell_type": "code",
   "execution_count": 6,
   "metadata": {
    "ExecuteTime": {
     "end_time": "2020-09-11T01:07:55.585920Z",
     "start_time": "2020-09-11T01:07:55.211816Z"
    }
   },
   "outputs": [],
   "source": [
    "for i in category_list:\n",
    "    train_df[i] = train_df[i].astype(\"category\")\n",
    "    test_df[i] = test_df[i].astype(\"category\")"
   ]
  },
  {
   "cell_type": "code",
   "execution_count": 7,
   "metadata": {
    "ExecuteTime": {
     "end_time": "2020-09-11T01:07:55.733573Z",
     "start_time": "2020-09-11T01:07:55.590909Z"
    }
   },
   "outputs": [],
   "source": [
    "train_df[\"month\"]=train_df[\"base_ym\"] - 201900\n",
    "train_df = train_df.drop(\"base_ym\", axis=1)"
   ]
  },
  {
   "cell_type": "code",
   "execution_count": 8,
   "metadata": {
    "ExecuteTime": {
     "end_time": "2020-09-11T01:07:55.746539Z",
     "start_time": "2020-09-11T01:07:55.737565Z"
    }
   },
   "outputs": [],
   "source": [
    "params = dict(\n",
    "    learning_rate=0.01,\n",
    "    objective=\"multiclass\",\n",
    "    num_leaves = 60,\n",
    "    max_depth = -1,\n",
    "    num_class=3,\n",
    "    metric=\"custom\",\n",
    "    verbosity=-1,\n",
    "    bagging_fraction=0.9,\n",
    "    feature_fraction=0.9,\n",
    "    bagging_freq=5\n",
    ")"
   ]
  },
  {
   "cell_type": "code",
   "execution_count": 9,
   "metadata": {
    "ExecuteTime": {
     "end_time": "2020-09-11T01:07:55.758507Z",
     "start_time": "2020-09-11T01:07:55.750530Z"
    }
   },
   "outputs": [],
   "source": [
    "def create_dataset(data, dep_var=\"target\"):\n",
    "    x, y = data.drop(columns=[dep_var]), data[dep_var]\n",
    "    cat_vars = list(x.columns.values[x.dtypes == \"category\"])\n",
    "    return lgb.Dataset(x, y, categorical_feature=cat_vars)"
   ]
  },
  {
   "cell_type": "code",
   "execution_count": 10,
   "metadata": {
    "ExecuteTime": {
     "end_time": "2020-09-11T01:07:55.769478Z",
     "start_time": "2020-09-11T01:07:55.762499Z"
    }
   },
   "outputs": [],
   "source": [
    "def f1(pred, data):\n",
    "    true = data.get_label()\n",
    "    pred = pred.reshape(3, -1).T.argmax(axis=1)\n",
    "    return \"f1_score\", f1_score(true, pred, average=\"macro\"), True"
   ]
  },
  {
   "cell_type": "code",
   "execution_count": 11,
   "metadata": {
    "ExecuteTime": {
     "end_time": "2020-09-11T01:07:55.784441Z",
     "start_time": "2020-09-11T01:07:55.774467Z"
    }
   },
   "outputs": [],
   "source": [
    "def ts_split(data, start_month, target_month):\n",
    "    trainset = data[(data.month < target_month) & (data.month >= start_month)].drop(\"month\", axis=1)\n",
    "    testset = data[data.month == target_month].drop(\"month\", axis=1)\n",
    "    return trainset, testset"
   ]
  },
  {
   "cell_type": "code",
   "execution_count": 12,
   "metadata": {
    "ExecuteTime": {
     "end_time": "2020-09-11T01:07:55.797404Z",
     "start_time": "2020-09-11T01:07:55.789424Z"
    }
   },
   "outputs": [],
   "source": [
    "def train(trainset, testset, params):\n",
    "    test_result = {}\n",
    "    model = lgb.train(\n",
    "        params=params,\n",
    "        train_set=trainset,\n",
    "        valid_sets=testset,\n",
    "        num_boost_round=3000,\n",
    "        verbose_eval=False,\n",
    "        feval=f1,\n",
    "        early_stopping_rounds=100,\n",
    "        evals_result=test_result\n",
    "    )\n",
    "    test_score = round(max(test_result[\"valid_0\"]['f1_score']), 4)\n",
    "    return test_score, model"
   ]
  },
  {
   "cell_type": "code",
   "execution_count": 13,
   "metadata": {
    "ExecuteTime": {
     "end_time": "2020-09-11T01:07:55.818347Z",
     "start_time": "2020-09-11T01:07:55.802393Z"
    }
   },
   "outputs": [],
   "source": [
    "class LightGBM:\n",
    "    def tscv(self, data, interval, params=params):\n",
    "        scores = []\n",
    "\n",
    "        row_format = \"{:^15}|{:^15}|{:^15}|\"\n",
    "        print(row_format.format(\"start_month\",\"target_month\", \"f1_score\"))\n",
    "        print(row_format.format(\"=\" * 15, \"=\" * 15, \"=\" * 15))\n",
    "\n",
    "        for target_month in range(2, 12):\n",
    "            if interval == 0:\n",
    "                start_month = 1\n",
    "            else:\n",
    "                start_month = target_month - interval\n",
    "                if start_month < 1:\n",
    "                    continue\n",
    "            trainset, testset = ts_split(data, start_month, target_month)\n",
    "            trainset, testset = create_dataset(trainset), create_dataset(testset)\n",
    "            score, _ = train(trainset, testset, params)\n",
    "            scores.append(score)\n",
    "            print(row_format.format(start_month, target_month, score))\n",
    "        print(f\"CV score: {np.round(np.mean(scores), 4)} Std: {np.round(np.std(scores), 4)}\")"
   ]
  },
  {
   "cell_type": "code",
   "execution_count": 14,
   "metadata": {
    "ExecuteTime": {
     "end_time": "2020-09-11T01:07:55.826327Z",
     "start_time": "2020-09-11T01:07:55.822338Z"
    }
   },
   "outputs": [],
   "source": [
    "LG = LightGBM()"
   ]
  },
  {
   "cell_type": "code",
   "execution_count": 17,
   "metadata": {
    "ExecuteTime": {
     "end_time": "2020-09-11T02:54:45.199635Z",
     "start_time": "2020-09-11T02:24:00.337007Z"
    }
   },
   "outputs": [
    {
     "name": "stdout",
     "output_type": "stream",
     "text": [
      "  start_month  | target_month  |   f1_score    |\n",
      "===============|===============|===============|\n",
      "       1       |       2       |    0.7821     |\n",
      "       1       |       3       |    0.7394     |\n",
      "       1       |       4       |    0.7416     |\n",
      "       1       |       5       |    0.7469     |\n",
      "       1       |       6       |    0.7395     |\n",
      "       1       |       7       |    0.7585     |\n",
      "       1       |       8       |    0.7474     |\n"
     ]
    },
    {
     "ename": "KeyboardInterrupt",
     "evalue": "",
     "output_type": "error",
     "traceback": [
      "\u001b[1;31m---------------------------------------------------------------------------\u001b[0m",
      "\u001b[1;31mKeyboardInterrupt\u001b[0m                         Traceback (most recent call last)",
      "\u001b[1;32m<ipython-input-17-0eac1d53cb5c>\u001b[0m in \u001b[0;36m<module>\u001b[1;34m\u001b[0m\n\u001b[0;32m      1\u001b[0m \u001b[1;32mfor\u001b[0m \u001b[0mi\u001b[0m \u001b[1;32min\u001b[0m \u001b[0mrange\u001b[0m\u001b[1;33m(\u001b[0m\u001b[1;36m0\u001b[0m\u001b[1;33m,\u001b[0m\u001b[1;36m13\u001b[0m\u001b[1;33m)\u001b[0m\u001b[1;33m:\u001b[0m\u001b[1;33m\u001b[0m\u001b[1;33m\u001b[0m\u001b[0m\n\u001b[1;32m----> 2\u001b[1;33m     \u001b[0mLG\u001b[0m\u001b[1;33m.\u001b[0m\u001b[0mtscv\u001b[0m\u001b[1;33m(\u001b[0m\u001b[0mtrain_df\u001b[0m\u001b[1;33m,\u001b[0m \u001b[0mi\u001b[0m\u001b[1;33m)\u001b[0m\u001b[1;33m\u001b[0m\u001b[1;33m\u001b[0m\u001b[0m\n\u001b[0m",
      "\u001b[1;32m<ipython-input-13-332c6336248a>\u001b[0m in \u001b[0;36mtscv\u001b[1;34m(self, data, interval, params)\u001b[0m\n\u001b[0;32m     16\u001b[0m             \u001b[0mtrainset\u001b[0m\u001b[1;33m,\u001b[0m \u001b[0mtestset\u001b[0m \u001b[1;33m=\u001b[0m \u001b[0mts_split\u001b[0m\u001b[1;33m(\u001b[0m\u001b[0mdata\u001b[0m\u001b[1;33m,\u001b[0m \u001b[0mstart_month\u001b[0m\u001b[1;33m,\u001b[0m \u001b[0mtarget_month\u001b[0m\u001b[1;33m)\u001b[0m\u001b[1;33m\u001b[0m\u001b[1;33m\u001b[0m\u001b[0m\n\u001b[0;32m     17\u001b[0m             \u001b[0mtrainset\u001b[0m\u001b[1;33m,\u001b[0m \u001b[0mtestset\u001b[0m \u001b[1;33m=\u001b[0m \u001b[0mcreate_dataset\u001b[0m\u001b[1;33m(\u001b[0m\u001b[0mtrainset\u001b[0m\u001b[1;33m)\u001b[0m\u001b[1;33m,\u001b[0m \u001b[0mcreate_dataset\u001b[0m\u001b[1;33m(\u001b[0m\u001b[0mtestset\u001b[0m\u001b[1;33m)\u001b[0m\u001b[1;33m\u001b[0m\u001b[1;33m\u001b[0m\u001b[0m\n\u001b[1;32m---> 18\u001b[1;33m             \u001b[0mscore\u001b[0m\u001b[1;33m,\u001b[0m \u001b[0m_\u001b[0m \u001b[1;33m=\u001b[0m \u001b[0mtrain\u001b[0m\u001b[1;33m(\u001b[0m\u001b[0mtrainset\u001b[0m\u001b[1;33m,\u001b[0m \u001b[0mtestset\u001b[0m\u001b[1;33m,\u001b[0m \u001b[0mparams\u001b[0m\u001b[1;33m)\u001b[0m\u001b[1;33m\u001b[0m\u001b[1;33m\u001b[0m\u001b[0m\n\u001b[0m\u001b[0;32m     19\u001b[0m             \u001b[0mscores\u001b[0m\u001b[1;33m.\u001b[0m\u001b[0mappend\u001b[0m\u001b[1;33m(\u001b[0m\u001b[0mscore\u001b[0m\u001b[1;33m)\u001b[0m\u001b[1;33m\u001b[0m\u001b[1;33m\u001b[0m\u001b[0m\n\u001b[0;32m     20\u001b[0m             \u001b[0mprint\u001b[0m\u001b[1;33m(\u001b[0m\u001b[0mrow_format\u001b[0m\u001b[1;33m.\u001b[0m\u001b[0mformat\u001b[0m\u001b[1;33m(\u001b[0m\u001b[0mstart_month\u001b[0m\u001b[1;33m,\u001b[0m \u001b[0mtarget_month\u001b[0m\u001b[1;33m,\u001b[0m \u001b[0mscore\u001b[0m\u001b[1;33m)\u001b[0m\u001b[1;33m)\u001b[0m\u001b[1;33m\u001b[0m\u001b[1;33m\u001b[0m\u001b[0m\n",
      "\u001b[1;32m<ipython-input-12-2665b74d04ff>\u001b[0m in \u001b[0;36mtrain\u001b[1;34m(trainset, testset, params)\u001b[0m\n\u001b[0;32m      9\u001b[0m         \u001b[0mfeval\u001b[0m\u001b[1;33m=\u001b[0m\u001b[0mf1\u001b[0m\u001b[1;33m,\u001b[0m\u001b[1;33m\u001b[0m\u001b[1;33m\u001b[0m\u001b[0m\n\u001b[0;32m     10\u001b[0m         \u001b[0mearly_stopping_rounds\u001b[0m\u001b[1;33m=\u001b[0m\u001b[1;36m100\u001b[0m\u001b[1;33m,\u001b[0m\u001b[1;33m\u001b[0m\u001b[1;33m\u001b[0m\u001b[0m\n\u001b[1;32m---> 11\u001b[1;33m         \u001b[0mevals_result\u001b[0m\u001b[1;33m=\u001b[0m\u001b[0mtest_result\u001b[0m\u001b[1;33m\u001b[0m\u001b[1;33m\u001b[0m\u001b[0m\n\u001b[0m\u001b[0;32m     12\u001b[0m     )\n\u001b[0;32m     13\u001b[0m     \u001b[0mtest_score\u001b[0m \u001b[1;33m=\u001b[0m \u001b[0mround\u001b[0m\u001b[1;33m(\u001b[0m\u001b[0mmax\u001b[0m\u001b[1;33m(\u001b[0m\u001b[0mtest_result\u001b[0m\u001b[1;33m[\u001b[0m\u001b[1;34m\"valid_0\"\u001b[0m\u001b[1;33m]\u001b[0m\u001b[1;33m[\u001b[0m\u001b[1;34m'f1_score'\u001b[0m\u001b[1;33m]\u001b[0m\u001b[1;33m)\u001b[0m\u001b[1;33m,\u001b[0m \u001b[1;36m4\u001b[0m\u001b[1;33m)\u001b[0m\u001b[1;33m\u001b[0m\u001b[1;33m\u001b[0m\u001b[0m\n",
      "\u001b[1;32m~\\AppData\\Roaming\\Python\\Python37\\site-packages\\lightgbm\\engine.py\u001b[0m in \u001b[0;36mtrain\u001b[1;34m(params, train_set, num_boost_round, valid_sets, valid_names, fobj, feval, init_model, feature_name, categorical_feature, early_stopping_rounds, evals_result, verbose_eval, learning_rates, keep_training_booster, callbacks)\u001b[0m\n\u001b[0;32m    250\u001b[0m                                     evaluation_result_list=None))\n\u001b[0;32m    251\u001b[0m \u001b[1;33m\u001b[0m\u001b[0m\n\u001b[1;32m--> 252\u001b[1;33m         \u001b[0mbooster\u001b[0m\u001b[1;33m.\u001b[0m\u001b[0mupdate\u001b[0m\u001b[1;33m(\u001b[0m\u001b[0mfobj\u001b[0m\u001b[1;33m=\u001b[0m\u001b[0mfobj\u001b[0m\u001b[1;33m)\u001b[0m\u001b[1;33m\u001b[0m\u001b[1;33m\u001b[0m\u001b[0m\n\u001b[0m\u001b[0;32m    253\u001b[0m \u001b[1;33m\u001b[0m\u001b[0m\n\u001b[0;32m    254\u001b[0m         \u001b[0mevaluation_result_list\u001b[0m \u001b[1;33m=\u001b[0m \u001b[1;33m[\u001b[0m\u001b[1;33m]\u001b[0m\u001b[1;33m\u001b[0m\u001b[1;33m\u001b[0m\u001b[0m\n",
      "\u001b[1;32m~\\AppData\\Roaming\\Python\\Python37\\site-packages\\lightgbm\\basic.py\u001b[0m in \u001b[0;36mupdate\u001b[1;34m(self, train_set, fobj)\u001b[0m\n\u001b[0;32m   2370\u001b[0m             _safe_call(_LIB.LGBM_BoosterUpdateOneIter(\n\u001b[0;32m   2371\u001b[0m                 \u001b[0mself\u001b[0m\u001b[1;33m.\u001b[0m\u001b[0mhandle\u001b[0m\u001b[1;33m,\u001b[0m\u001b[1;33m\u001b[0m\u001b[1;33m\u001b[0m\u001b[0m\n\u001b[1;32m-> 2372\u001b[1;33m                 ctypes.byref(is_finished)))\n\u001b[0m\u001b[0;32m   2373\u001b[0m             \u001b[0mself\u001b[0m\u001b[1;33m.\u001b[0m\u001b[0m__is_predicted_cur_iter\u001b[0m \u001b[1;33m=\u001b[0m \u001b[1;33m[\u001b[0m\u001b[1;32mFalse\u001b[0m \u001b[1;32mfor\u001b[0m \u001b[0m_\u001b[0m \u001b[1;32min\u001b[0m \u001b[0mrange_\u001b[0m\u001b[1;33m(\u001b[0m\u001b[0mself\u001b[0m\u001b[1;33m.\u001b[0m\u001b[0m__num_dataset\u001b[0m\u001b[1;33m)\u001b[0m\u001b[1;33m]\u001b[0m\u001b[1;33m\u001b[0m\u001b[1;33m\u001b[0m\u001b[0m\n\u001b[0;32m   2374\u001b[0m             \u001b[1;32mreturn\u001b[0m \u001b[0mis_finished\u001b[0m\u001b[1;33m.\u001b[0m\u001b[0mvalue\u001b[0m \u001b[1;33m==\u001b[0m \u001b[1;36m1\u001b[0m\u001b[1;33m\u001b[0m\u001b[1;33m\u001b[0m\u001b[0m\n",
      "\u001b[1;31mKeyboardInterrupt\u001b[0m: "
     ]
    }
   ],
   "source": [
    "for i in range(0,13):\n",
    "    LG.tscv(train_df, i)"
   ]
  },
  {
   "cell_type": "code",
   "execution_count": null,
   "metadata": {
    "ExecuteTime": {
     "end_time": "2020-09-11T02:07:14.025786Z",
     "start_time": "2020-09-11T01:07:50.680Z"
    }
   },
   "outputs": [],
   "source": [
    "train_df.head()"
   ]
  },
  {
   "cell_type": "code",
   "execution_count": null,
   "metadata": {
    "ExecuteTime": {
     "end_time": "2020-09-11T02:07:14.028779Z",
     "start_time": "2020-09-11T01:07:50.683Z"
    }
   },
   "outputs": [],
   "source": [
    "lgbtrain=create_dataset(train_df)\n",
    "model = lgb.train(\n",
    "        params,\n",
    "        lgbtrain\n",
    "    )"
   ]
  },
  {
   "cell_type": "code",
   "execution_count": null,
   "metadata": {
    "ExecuteTime": {
     "end_time": "2020-09-11T02:07:14.030773Z",
     "start_time": "2020-09-11T01:07:50.686Z"
    }
   },
   "outputs": [],
   "source": [
    "pred=model.predict(test_df)\n",
    "pred"
   ]
  },
  {
   "cell_type": "code",
   "execution_count": null,
   "metadata": {
    "ExecuteTime": {
     "end_time": "2020-09-11T02:07:14.032768Z",
     "start_time": "2020-09-11T01:07:50.691Z"
    }
   },
   "outputs": [],
   "source": [
    "pred = [np.argmax(line) for line in pred]\n",
    "set(pred)"
   ]
  },
  {
   "cell_type": "code",
   "execution_count": null,
   "metadata": {
    "ExecuteTime": {
     "end_time": "2020-09-11T02:07:14.035761Z",
     "start_time": "2020-09-11T01:07:50.694Z"
    }
   },
   "outputs": [],
   "source": [
    "for i in set(pred):\n",
    "    print(pred.count(i))"
   ]
  },
  {
   "cell_type": "code",
   "execution_count": null,
   "metadata": {
    "ExecuteTime": {
     "end_time": "2020-09-11T02:07:14.037755Z",
     "start_time": "2020-09-11T01:07:50.696Z"
    }
   },
   "outputs": [],
   "source": [
    "result=pd.DataFrame(pred, columns=[\"target\"])\n",
    "result=result.reset_index()\n",
    "result=result.rename(columns={\"index\":\"ID\"})\n",
    "result"
   ]
  },
  {
   "cell_type": "code",
   "execution_count": null,
   "metadata": {
    "ExecuteTime": {
     "end_time": "2020-09-11T02:07:14.039750Z",
     "start_time": "2020-09-11T01:07:50.698Z"
    }
   },
   "outputs": [],
   "source": [
    "result.to_csv(\"second.csv\", index=False)"
   ]
  },
  {
   "cell_type": "code",
   "execution_count": null,
   "metadata": {
    "ExecuteTime": {
     "end_time": "2020-09-11T02:07:14.042743Z",
     "start_time": "2020-09-11T01:07:50.700Z"
    }
   },
   "outputs": [],
   "source": [
    "lgb.plot_importance(model, figsize=(10,10))"
   ]
  },
  {
   "cell_type": "code",
   "execution_count": null,
   "metadata": {},
   "outputs": [],
   "source": []
  }
 ],
 "metadata": {
  "hide_input": false,
  "kernelspec": {
   "display_name": "Python 3",
   "language": "python",
   "name": "python3"
  },
  "language_info": {
   "codemirror_mode": {
    "name": "ipython",
    "version": 3
   },
   "file_extension": ".py",
   "mimetype": "text/x-python",
   "name": "python",
   "nbconvert_exporter": "python",
   "pygments_lexer": "ipython3",
   "version": "3.7.1"
  },
  "toc": {
   "base_numbering": 1,
   "nav_menu": {},
   "number_sections": true,
   "sideBar": true,
   "skip_h1_title": false,
   "title_cell": "Table of Contents",
   "title_sidebar": "Contents",
   "toc_cell": false,
   "toc_position": {},
   "toc_section_display": true,
   "toc_window_display": false
  },
  "varInspector": {
   "cols": {
    "lenName": 16,
    "lenType": 16,
    "lenVar": 40
   },
   "kernels_config": {
    "python": {
     "delete_cmd_postfix": "",
     "delete_cmd_prefix": "del ",
     "library": "var_list.py",
     "varRefreshCmd": "print(var_dic_list())"
    },
    "r": {
     "delete_cmd_postfix": ") ",
     "delete_cmd_prefix": "rm(",
     "library": "var_list.r",
     "varRefreshCmd": "cat(var_dic_list()) "
    }
   },
   "types_to_exclude": [
    "module",
    "function",
    "builtin_function_or_method",
    "instance",
    "_Feature"
   ],
   "window_display": false
  }
 },
 "nbformat": 4,
 "nbformat_minor": 4
}
