{
 "cells": [
  {
   "cell_type": "code",
   "execution_count": 1,
   "metadata": {
    "ExecuteTime": {
     "end_time": "2020-09-10T00:50:02.111599Z",
     "start_time": "2020-09-10T00:49:59.539458Z"
    }
   },
   "outputs": [],
   "source": [
    "import pandas as pd\n",
    "import lightgbm as lgb\n",
    "from sklearn.metrics import f1_score\n",
    "import warnings\n",
    "warnings.filterwarnings(\"ignore\", category=UserWarning)"
   ]
  },
  {
   "cell_type": "code",
   "execution_count": 2,
   "metadata": {
    "ExecuteTime": {
     "end_time": "2020-09-10T00:50:05.721551Z",
     "start_time": "2020-09-10T00:50:03.843761Z"
    }
   },
   "outputs": [],
   "source": [
    "train_df = pd.read_csv(\"./data/train.csv\")\n",
    "test_df = pd.read_csv(\"./data/test.csv\")"
   ]
  },
  {
   "cell_type": "code",
   "execution_count": 3,
   "metadata": {
    "ExecuteTime": {
     "end_time": "2020-09-10T00:50:06.671892Z",
     "start_time": "2020-09-10T00:50:06.660885Z"
    }
   },
   "outputs": [
    {
     "data": {
      "text/plain": [
       "Index(['ID', 'nur_hosp_yn', 'ac_ctr_diff', 'hsp_avg_optt_bilg_isamt_s',\n",
       "       'hsp_avg_surop_bilg_isamt_s', 'ar_rclss_cd', 'fds_cust_yn',\n",
       "       'hspz_dys_s', 'inamt_nvcd', 'hsp_avg_diag_bilg_isamt_s', 'blrs_cd',\n",
       "       'dsas_ltwt_gcd', 'dsas_avg_diag_bilg_isamt_s', 'dsas_acd_rst_dcd',\n",
       "       'base_ym', 'kcd_gcd', 'hsp_avg_hspz_bilg_isamt_s', 'optt_blcnt_s',\n",
       "       'mtad_cntr_yn', 'heltp_pf_ntyn', 'prm_nvcd', 'surop_blcnt_s',\n",
       "       'mdct_inu_rclss_dcd', 'dsas_avg_optt_bilg_isamt_s', 'isrd_age_dcd',\n",
       "       'hspz_blcnt_s', 'dsas_avg_surop_bilg_isamt_s', 'urlb_fc_yn',\n",
       "       'dsas_avg_hspz_bilg_isamt_s', 'smrtg_5y_passed_yn', 'ac_rst_diff',\n",
       "       'bilg_isamt_s', 'optt_nbtm_s', 'target'],\n",
       "      dtype='object')"
      ]
     },
     "execution_count": 3,
     "metadata": {},
     "output_type": "execute_result"
    }
   ],
   "source": [
    "train_df.columns"
   ]
  },
  {
   "cell_type": "code",
   "execution_count": 4,
   "metadata": {
    "ExecuteTime": {
     "end_time": "2020-09-10T00:50:08.859616Z",
     "start_time": "2020-09-10T00:50:08.853633Z"
    }
   },
   "outputs": [],
   "source": [
    "category_list=[\"dsas_ltwt_gcd\", \"kcd_gcd\", \"dsas_acd_rst_dcd\", \"ar_rclss_cd\",\n",
    "              \"blrs_cd\", \"mdct_inu_rclss_dcd\", \"nur_hosp_yn\", \"isrd_age_dcd\",\n",
    "              \"smrtg_5y_passed_yn\", \"urlb_fc_yn\", \"mtad_cntr_yn\", \"heltp_pf_ntyn\",\n",
    "              \"fds_cust_yn\", \"prm_nvcd\", \"inamt_nvcd\", \"ac_ctr_diff\",\"ac_rst_diff\"]"
   ]
  },
  {
   "cell_type": "code",
   "execution_count": 5,
   "metadata": {
    "ExecuteTime": {
     "end_time": "2020-09-10T00:50:12.253182Z",
     "start_time": "2020-09-10T00:50:11.429371Z"
    }
   },
   "outputs": [],
   "source": [
    "for i in category_list:\n",
    "    train_df[i] = train_df[i].astype(\"category\")\n",
    "    test_df[i] = test_df[i].astype(\"category\")"
   ]
  },
  {
   "cell_type": "code",
   "execution_count": 6,
   "metadata": {
    "ExecuteTime": {
     "end_time": "2020-09-10T00:50:14.068765Z",
     "start_time": "2020-09-10T00:50:13.958042Z"
    }
   },
   "outputs": [],
   "source": [
    "train_df[\"month\"]=train_df[\"base_ym\"] - 201900\n",
    "train_df = train_df.drop(\"base_ym\", axis=1)"
   ]
  },
  {
   "cell_type": "code",
   "execution_count": 7,
   "metadata": {
    "ExecuteTime": {
     "end_time": "2020-09-10T00:50:15.961965Z",
     "start_time": "2020-09-10T00:50:15.955981Z"
    }
   },
   "outputs": [],
   "source": [
    "params = dict(\n",
    "    learning_rate=0.01,\n",
    "    objective=\"multiclass\",\n",
    "    num_leaves = 60,\n",
    "    max_depth = -1,\n",
    "    num_class=3,\n",
    "    metric=\"custom\",\n",
    "    verbosity=-1,\n",
    "    bagging_fraction=0.9,\n",
    "    feature_fraction=0.9,\n",
    "    bagging_freq=5\n",
    ")"
   ]
  },
  {
   "cell_type": "code",
   "execution_count": 8,
   "metadata": {
    "ExecuteTime": {
     "end_time": "2020-09-10T00:50:19.186823Z",
     "start_time": "2020-09-10T00:50:19.181832Z"
    }
   },
   "outputs": [],
   "source": [
    "def create_dataset(data, dep_var=\"target\"):\n",
    "    x, y = data.drop(columns=[dep_var]), data[dep_var]\n",
    "    cat_vars = list(x.columns.values[x.dtypes == \"category\"])\n",
    "    return lgb.Dataset(x, y, categorical_feature=cat_vars)"
   ]
  },
  {
   "cell_type": "code",
   "execution_count": 9,
   "metadata": {
    "ExecuteTime": {
     "end_time": "2020-09-10T00:50:19.838626Z",
     "start_time": "2020-09-10T00:50:19.830649Z"
    }
   },
   "outputs": [],
   "source": [
    "def f1(pred, data):\n",
    "    true = data.get_label()\n",
    "    pred = pred.reshape(3, -1).T.argmax(axis=1)\n",
    "    return \"f1_score\", f1_score(true, pred, average=\"macro\"), True"
   ]
  },
  {
   "cell_type": "code",
   "execution_count": 10,
   "metadata": {
    "ExecuteTime": {
     "end_time": "2020-09-10T00:50:21.550963Z",
     "start_time": "2020-09-10T00:50:21.542987Z"
    }
   },
   "outputs": [],
   "source": [
    "def ts_split(data, start_month, target_month):\n",
    "    trainset = data[(data.month < target_month) & (data.month >= start_month)].drop(\"month\", axis=1)\n",
    "    testset = data[data.month == target_month].drop(\"month\", axis=1)\n",
    "    return trainset, testset"
   ]
  },
  {
   "cell_type": "code",
   "execution_count": 11,
   "metadata": {
    "ExecuteTime": {
     "end_time": "2020-09-10T00:50:22.563633Z",
     "start_time": "2020-09-10T00:50:22.558132Z"
    }
   },
   "outputs": [],
   "source": [
    "def train(trainset, testset, params):\n",
    "    test_result = {}\n",
    "    model = lgb.train(\n",
    "        params=params,\n",
    "        train_set=trainset,\n",
    "        valid_sets=testset,\n",
    "        num_boost_round=3000,\n",
    "        verbose_eval=False,\n",
    "        feval=f1,\n",
    "        early_stopping_rounds=100,\n",
    "        evals_result=test_result\n",
    "    )\n",
    "    test_score = round(max(test_result[\"valid_0\"]['f1_score']), 4)\n",
    "    return test_score, model"
   ]
  },
  {
   "cell_type": "code",
   "execution_count": 12,
   "metadata": {
    "ExecuteTime": {
     "end_time": "2020-09-10T00:50:24.658480Z",
     "start_time": "2020-09-10T00:50:24.645515Z"
    }
   },
   "outputs": [],
   "source": [
    "class LightGBM:\n",
    "    def tscv(self, data, interval, params=params):\n",
    "        scores = []\n",
    "\n",
    "        row_format = \"{:^15}|{:^15}|{:^15}|\"\n",
    "        print(row_format.format(\"start_month\",\"target_month\", \"f1_score\"))\n",
    "        print(row_format.format(\"=\" * 15, \"=\" * 15, \"=\" * 15))\n",
    "\n",
    "        for target_month in range(2, 12):\n",
    "            if interval == 0:\n",
    "                start_month = 1\n",
    "            else:\n",
    "                start_month = target_month - interval\n",
    "                if start_month < 1:\n",
    "                    continue\n",
    "            trainset, testset = ts_split(data, start_month, target_month)\n",
    "            trainset, testset = create_dataset(trainset), create_dataset(testset)\n",
    "            score, _ = train(trainset, testset, params)\n",
    "            scores.append(score)\n",
    "            print(row_format.format(start_month, target_month, score))\n",
    "        print(f\"CV score: {np.round(np.mean(scores), 4)} Std: {np.round(np.std(scores), 4)}\")"
   ]
  },
  {
   "cell_type": "code",
   "execution_count": 13,
   "metadata": {
    "ExecuteTime": {
     "end_time": "2020-09-10T00:50:30.806364Z",
     "start_time": "2020-09-10T00:50:30.801377Z"
    }
   },
   "outputs": [],
   "source": [
    "LG = LightGBM()"
   ]
  },
  {
   "cell_type": "code",
   "execution_count": 148,
   "metadata": {
    "ExecuteTime": {
     "end_time": "2020-09-09T07:06:17.501096Z",
     "start_time": "2020-09-09T06:27:46.711140Z"
    }
   },
   "outputs": [
    {
     "name": "stdout",
     "output_type": "stream",
     "text": [
      "  start_month  | target_month  |   f1_score    |\n",
      "===============|===============|===============|\n",
      "       1       |       2       |     0.972     |\n",
      "       1       |       3       |    0.9262     |\n",
      "       1       |       4       |    0.9566     |\n",
      "       1       |       5       |    0.9588     |\n",
      "       1       |       6       |    0.9695     |\n",
      "       1       |       7       |    0.9305     |\n",
      "       1       |       8       |    0.9357     |\n",
      "       1       |       9       |    0.9582     |\n",
      "       1       |      10       |    0.9471     |\n",
      "       1       |      11       |    0.9489     |\n",
      "CV score: 0.9504 Std: 0.0149\n",
      "  start_month  | target_month  |   f1_score    |\n",
      "===============|===============|===============|\n",
      "       1       |       2       |     0.972     |\n",
      "       2       |       3       |    0.9433     |\n",
      "       3       |       4       |    0.9479     |\n",
      "       4       |       5       |    0.9649     |\n",
      "       5       |       6       |     0.944     |\n",
      "       6       |       7       |    0.9701     |\n",
      "       7       |       8       |    0.9673     |\n",
      "       8       |       9       |    0.9645     |\n",
      "       9       |      10       |    0.9705     |\n",
      "      10       |      11       |    0.9698     |\n",
      "CV score: 0.9614 Std: 0.011\n",
      "  start_month  | target_month  |   f1_score    |\n",
      "===============|===============|===============|\n",
      "       1       |       3       |    0.9262     |\n",
      "       2       |       4       |    0.9516     |\n",
      "       3       |       5       |    0.8973     |\n",
      "       4       |       6       |    0.9461     |\n",
      "       5       |       7       |    0.9351     |\n",
      "       6       |       8       |    0.9706     |\n",
      "       7       |       9       |    0.9503     |\n",
      "       8       |      10       |    0.9709     |\n",
      "       9       |      11       |    0.9714     |\n",
      "CV score: 0.9466 Std: 0.0231\n",
      "  start_month  | target_month  |   f1_score    |\n",
      "===============|===============|===============|\n",
      "       1       |       4       |    0.9566     |\n",
      "       2       |       5       |    0.9423     |\n",
      "       3       |       6       |    0.9567     |\n",
      "       4       |       7       |    0.9684     |\n",
      "       5       |       8       |    0.8989     |\n",
      "       6       |       9       |    0.9479     |\n",
      "       7       |      10       |    0.9705     |\n",
      "       8       |      11       |    0.9585     |\n",
      "CV score: 0.95 Std: 0.0212\n",
      "  start_month  | target_month  |   f1_score    |\n",
      "===============|===============|===============|\n",
      "       1       |       5       |    0.9588     |\n",
      "       2       |       6       |    0.9541     |\n",
      "       3       |       7       |    0.9676     |\n",
      "       4       |       8       |    0.9675     |\n",
      "       5       |       9       |    0.9514     |\n",
      "       6       |      10       |    0.9708     |\n",
      "       7       |      11       |    0.9681     |\n",
      "CV score: 0.9626 Std: 0.0072\n",
      "  start_month  | target_month  |   f1_score    |\n",
      "===============|===============|===============|\n",
      "       1       |       6       |    0.9695     |\n",
      "       2       |       7       |    0.9667     |\n",
      "       3       |       8       |    0.9649     |\n",
      "       4       |       9       |    0.9721     |\n",
      "       5       |      10       |    0.9715     |\n",
      "       6       |      11       |    0.9692     |\n",
      "CV score: 0.969 Std: 0.0025\n",
      "  start_month  | target_month  |   f1_score    |\n",
      "===============|===============|===============|\n",
      "       1       |       7       |    0.9305     |\n",
      "       2       |       8       |    0.9608     |\n",
      "       3       |       9       |    0.9716     |\n",
      "       4       |      10       |    0.9689     |\n",
      "       5       |      11       |     0.972     |\n",
      "CV score: 0.9608 Std: 0.0157\n",
      "  start_month  | target_month  |   f1_score    |\n",
      "===============|===============|===============|\n",
      "       1       |       8       |    0.9357     |\n",
      "       2       |       9       |    0.9649     |\n",
      "       3       |      10       |    0.9646     |\n",
      "       4       |      11       |     0.952     |\n",
      "CV score: 0.9543 Std: 0.0119\n",
      "  start_month  | target_month  |   f1_score    |\n",
      "===============|===============|===============|\n",
      "       1       |       9       |    0.9582     |\n",
      "       2       |      10       |    0.9658     |\n",
      "       3       |      11       |    0.9547     |\n",
      "CV score: 0.9596 Std: 0.0046\n",
      "  start_month  | target_month  |   f1_score    |\n",
      "===============|===============|===============|\n",
      "       1       |      10       |    0.9471     |\n",
      "       2       |      11       |    0.9572     |\n",
      "CV score: 0.9522 Std: 0.005\n",
      "  start_month  | target_month  |   f1_score    |\n",
      "===============|===============|===============|\n",
      "       1       |      11       |    0.9489     |\n",
      "CV score: 0.9489 Std: 0.0\n",
      "  start_month  | target_month  |   f1_score    |\n",
      "===============|===============|===============|\n",
      "CV score: nan Std: nan\n",
      "  start_month  | target_month  |   f1_score    |\n",
      "===============|===============|===============|\n",
      "CV score: nan Std: nan\n"
     ]
    },
    {
     "name": "stderr",
     "output_type": "stream",
     "text": [
      "C:\\Users\\lhmlh\\AppData\\Roaming\\Python\\Python37\\site-packages\\numpy\\core\\fromnumeric.py:3373: RuntimeWarning: Mean of empty slice.\n",
      "  out=out, **kwargs)\n",
      "C:\\Users\\lhmlh\\AppData\\Roaming\\Python\\Python37\\site-packages\\numpy\\core\\_methods.py:170: RuntimeWarning: invalid value encountered in double_scalars\n",
      "  ret = ret.dtype.type(ret / rcount)\n",
      "C:\\Users\\lhmlh\\AppData\\Roaming\\Python\\Python37\\site-packages\\numpy\\core\\_methods.py:234: RuntimeWarning: Degrees of freedom <= 0 for slice\n",
      "  keepdims=keepdims)\n",
      "C:\\Users\\lhmlh\\AppData\\Roaming\\Python\\Python37\\site-packages\\numpy\\core\\_methods.py:195: RuntimeWarning: invalid value encountered in true_divide\n",
      "  arrmean, rcount, out=arrmean, casting='unsafe', subok=False)\n",
      "C:\\Users\\lhmlh\\AppData\\Roaming\\Python\\Python37\\site-packages\\numpy\\core\\_methods.py:226: RuntimeWarning: invalid value encountered in double_scalars\n",
      "  ret = ret.dtype.type(ret / rcount)\n"
     ]
    }
   ],
   "source": [
    "for i in range(0,13):\n",
    "    LG.tscv(train_df, i)"
   ]
  },
  {
   "cell_type": "code",
   "execution_count": 19,
   "metadata": {
    "ExecuteTime": {
     "end_time": "2020-09-10T00:58:29.730199Z",
     "start_time": "2020-09-10T00:58:29.696619Z"
    }
   },
   "outputs": [
    {
     "data": {
      "text/html": [
       "<div>\n",
       "<style scoped>\n",
       "    .dataframe tbody tr th:only-of-type {\n",
       "        vertical-align: middle;\n",
       "    }\n",
       "\n",
       "    .dataframe tbody tr th {\n",
       "        vertical-align: top;\n",
       "    }\n",
       "\n",
       "    .dataframe thead th {\n",
       "        text-align: right;\n",
       "    }\n",
       "</style>\n",
       "<table border=\"1\" class=\"dataframe\">\n",
       "  <thead>\n",
       "    <tr style=\"text-align: right;\">\n",
       "      <th></th>\n",
       "      <th>ID</th>\n",
       "      <th>nur_hosp_yn</th>\n",
       "      <th>ac_ctr_diff</th>\n",
       "      <th>hsp_avg_optt_bilg_isamt_s</th>\n",
       "      <th>hsp_avg_surop_bilg_isamt_s</th>\n",
       "      <th>ar_rclss_cd</th>\n",
       "      <th>fds_cust_yn</th>\n",
       "      <th>hspz_dys_s</th>\n",
       "      <th>inamt_nvcd</th>\n",
       "      <th>hsp_avg_diag_bilg_isamt_s</th>\n",
       "      <th>...</th>\n",
       "      <th>hspz_blcnt_s</th>\n",
       "      <th>dsas_avg_surop_bilg_isamt_s</th>\n",
       "      <th>urlb_fc_yn</th>\n",
       "      <th>dsas_avg_hspz_bilg_isamt_s</th>\n",
       "      <th>smrtg_5y_passed_yn</th>\n",
       "      <th>ac_rst_diff</th>\n",
       "      <th>bilg_isamt_s</th>\n",
       "      <th>optt_nbtm_s</th>\n",
       "      <th>target</th>\n",
       "      <th>month</th>\n",
       "    </tr>\n",
       "  </thead>\n",
       "  <tbody>\n",
       "    <tr>\n",
       "      <th>0</th>\n",
       "      <td>0</td>\n",
       "      <td>0</td>\n",
       "      <td>6</td>\n",
       "      <td>0.1303</td>\n",
       "      <td>0.0000</td>\n",
       "      <td>1</td>\n",
       "      <td>0</td>\n",
       "      <td>0.3452</td>\n",
       "      <td>4</td>\n",
       "      <td>0.0000</td>\n",
       "      <td>...</td>\n",
       "      <td>10.0000</td>\n",
       "      <td>1.1701</td>\n",
       "      <td>0</td>\n",
       "      <td>1.2612</td>\n",
       "      <td>0</td>\n",
       "      <td>0</td>\n",
       "      <td>0.4240</td>\n",
       "      <td>0.8571</td>\n",
       "      <td>1</td>\n",
       "      <td>1</td>\n",
       "    </tr>\n",
       "    <tr>\n",
       "      <th>1</th>\n",
       "      <td>1</td>\n",
       "      <td>1</td>\n",
       "      <td>6</td>\n",
       "      <td>0.0000</td>\n",
       "      <td>0.5770</td>\n",
       "      <td>4</td>\n",
       "      <td>0</td>\n",
       "      <td>0.0000</td>\n",
       "      <td>4</td>\n",
       "      <td>0.0000</td>\n",
       "      <td>...</td>\n",
       "      <td>0.0000</td>\n",
       "      <td>0.1508</td>\n",
       "      <td>0</td>\n",
       "      <td>0.0023</td>\n",
       "      <td>0</td>\n",
       "      <td>0</td>\n",
       "      <td>0.8602</td>\n",
       "      <td>0.0000</td>\n",
       "      <td>0</td>\n",
       "      <td>1</td>\n",
       "    </tr>\n",
       "    <tr>\n",
       "      <th>2</th>\n",
       "      <td>2</td>\n",
       "      <td>1</td>\n",
       "      <td>6</td>\n",
       "      <td>0.0000</td>\n",
       "      <td>0.2885</td>\n",
       "      <td>1</td>\n",
       "      <td>1</td>\n",
       "      <td>0.0000</td>\n",
       "      <td>6</td>\n",
       "      <td>0.0000</td>\n",
       "      <td>...</td>\n",
       "      <td>0.0000</td>\n",
       "      <td>0.1508</td>\n",
       "      <td>0</td>\n",
       "      <td>0.0023</td>\n",
       "      <td>0</td>\n",
       "      <td>0</td>\n",
       "      <td>0.4301</td>\n",
       "      <td>0.0000</td>\n",
       "      <td>1</td>\n",
       "      <td>1</td>\n",
       "    </tr>\n",
       "    <tr>\n",
       "      <th>3</th>\n",
       "      <td>3</td>\n",
       "      <td>0</td>\n",
       "      <td>4</td>\n",
       "      <td>0.0197</td>\n",
       "      <td>0.0680</td>\n",
       "      <td>2</td>\n",
       "      <td>0</td>\n",
       "      <td>0.8056</td>\n",
       "      <td>6</td>\n",
       "      <td>0.0587</td>\n",
       "      <td>...</td>\n",
       "      <td>1.4444</td>\n",
       "      <td>0.0863</td>\n",
       "      <td>0</td>\n",
       "      <td>0.1920</td>\n",
       "      <td>0</td>\n",
       "      <td>0</td>\n",
       "      <td>0.2509</td>\n",
       "      <td>0.0000</td>\n",
       "      <td>1</td>\n",
       "      <td>1</td>\n",
       "    </tr>\n",
       "    <tr>\n",
       "      <th>4</th>\n",
       "      <td>4</td>\n",
       "      <td>0</td>\n",
       "      <td>5</td>\n",
       "      <td>0.0000</td>\n",
       "      <td>0.0000</td>\n",
       "      <td>9</td>\n",
       "      <td>0</td>\n",
       "      <td>0.4167</td>\n",
       "      <td>2</td>\n",
       "      <td>0.0000</td>\n",
       "      <td>...</td>\n",
       "      <td>1.3333</td>\n",
       "      <td>0.0863</td>\n",
       "      <td>0</td>\n",
       "      <td>0.1920</td>\n",
       "      <td>0</td>\n",
       "      <td>0</td>\n",
       "      <td>0.0323</td>\n",
       "      <td>0.0000</td>\n",
       "      <td>1</td>\n",
       "      <td>1</td>\n",
       "    </tr>\n",
       "  </tbody>\n",
       "</table>\n",
       "<p>5 rows × 34 columns</p>\n",
       "</div>"
      ],
      "text/plain": [
       "   ID nur_hosp_yn ac_ctr_diff  hsp_avg_optt_bilg_isamt_s  \\\n",
       "0   0           0           6                     0.1303   \n",
       "1   1           1           6                     0.0000   \n",
       "2   2           1           6                     0.0000   \n",
       "3   3           0           4                     0.0197   \n",
       "4   4           0           5                     0.0000   \n",
       "\n",
       "   hsp_avg_surop_bilg_isamt_s ar_rclss_cd fds_cust_yn  hspz_dys_s inamt_nvcd  \\\n",
       "0                      0.0000           1           0      0.3452          4   \n",
       "1                      0.5770           4           0      0.0000          4   \n",
       "2                      0.2885           1           1      0.0000          6   \n",
       "3                      0.0680           2           0      0.8056          6   \n",
       "4                      0.0000           9           0      0.4167          2   \n",
       "\n",
       "   hsp_avg_diag_bilg_isamt_s  ... hspz_blcnt_s dsas_avg_surop_bilg_isamt_s  \\\n",
       "0                     0.0000  ...      10.0000                      1.1701   \n",
       "1                     0.0000  ...       0.0000                      0.1508   \n",
       "2                     0.0000  ...       0.0000                      0.1508   \n",
       "3                     0.0587  ...       1.4444                      0.0863   \n",
       "4                     0.0000  ...       1.3333                      0.0863   \n",
       "\n",
       "   urlb_fc_yn dsas_avg_hspz_bilg_isamt_s smrtg_5y_passed_yn  ac_rst_diff  \\\n",
       "0           0                     1.2612                  0            0   \n",
       "1           0                     0.0023                  0            0   \n",
       "2           0                     0.0023                  0            0   \n",
       "3           0                     0.1920                  0            0   \n",
       "4           0                     0.1920                  0            0   \n",
       "\n",
       "   bilg_isamt_s optt_nbtm_s target month  \n",
       "0        0.4240      0.8571      1     1  \n",
       "1        0.8602      0.0000      0     1  \n",
       "2        0.4301      0.0000      1     1  \n",
       "3        0.2509      0.0000      1     1  \n",
       "4        0.0323      0.0000      1     1  \n",
       "\n",
       "[5 rows x 34 columns]"
      ]
     },
     "execution_count": 19,
     "metadata": {},
     "output_type": "execute_result"
    }
   ],
   "source": [
    "train_df.head()"
   ]
  },
  {
   "cell_type": "code",
   "execution_count": 14,
   "metadata": {
    "ExecuteTime": {
     "end_time": "2020-09-10T00:50:55.365930Z",
     "start_time": "2020-09-10T00:50:37.643315Z"
    }
   },
   "outputs": [],
   "source": [
    "lgbtrain=create_dataset(train_df)\n",
    "model = lgb.train(\n",
    "        params,\n",
    "        lgbtrain\n",
    "    )"
   ]
  },
  {
   "cell_type": "code",
   "execution_count": 158,
   "metadata": {
    "ExecuteTime": {
     "end_time": "2020-09-09T07:42:18.939882Z",
     "start_time": "2020-09-09T07:42:18.559761Z"
    }
   },
   "outputs": [
    {
     "data": {
      "text/plain": [
       "array([[0.17474345, 0.74400881, 0.08124774],\n",
       "       [0.14028437, 0.78193575, 0.07777988],\n",
       "       [0.12940179, 0.78166142, 0.0889368 ],\n",
       "       ...,\n",
       "       [0.22076989, 0.67866282, 0.1005673 ],\n",
       "       [0.12264046, 0.73262684, 0.1447327 ],\n",
       "       [0.14182344, 0.75630992, 0.10186664]])"
      ]
     },
     "execution_count": 158,
     "metadata": {},
     "output_type": "execute_result"
    }
   ],
   "source": [
    "pred=model.predict(test_df)\n",
    "pred"
   ]
  },
  {
   "cell_type": "code",
   "execution_count": 159,
   "metadata": {
    "ExecuteTime": {
     "end_time": "2020-09-09T07:42:20.700556Z",
     "start_time": "2020-09-09T07:42:20.622725Z"
    }
   },
   "outputs": [
    {
     "data": {
      "text/plain": [
       "{1}"
      ]
     },
     "execution_count": 159,
     "metadata": {},
     "output_type": "execute_result"
    }
   ],
   "source": [
    "pred = [np.argmax(line) for line in pred]\n",
    "set(pred)"
   ]
  },
  {
   "cell_type": "code",
   "execution_count": 160,
   "metadata": {
    "ExecuteTime": {
     "end_time": "2020-09-09T07:42:22.556933Z",
     "start_time": "2020-09-09T07:42:22.550950Z"
    }
   },
   "outputs": [
    {
     "name": "stdout",
     "output_type": "stream",
     "text": [
      "22072\n"
     ]
    }
   ],
   "source": [
    "for i in set(pred):\n",
    "    print(pred.count(i))"
   ]
  },
  {
   "cell_type": "code",
   "execution_count": 161,
   "metadata": {
    "ExecuteTime": {
     "end_time": "2020-09-09T07:42:24.987531Z",
     "start_time": "2020-09-09T07:42:24.974606Z"
    }
   },
   "outputs": [],
   "source": [
    "result=pd.DataFrame(pred, columns=[\"target\"])\n",
    "result=result.reset_index()\n",
    "result=result.rename(columns={\"index\":\"ID\"})\n",
    "result"
   ]
  },
  {
   "cell_type": "code",
   "execution_count": 143,
   "metadata": {
    "ExecuteTime": {
     "end_time": "2020-09-09T05:36:10.156439Z",
     "start_time": "2020-09-09T05:36:09.985113Z"
    }
   },
   "outputs": [],
   "source": [
    "result.to_csv(\"first.csv\", index=False)"
   ]
  },
  {
   "cell_type": "code",
   "execution_count": 18,
   "metadata": {
    "ExecuteTime": {
     "end_time": "2020-09-10T00:54:27.804202Z",
     "start_time": "2020-09-10T00:54:27.061050Z"
    }
   },
   "outputs": [
    {
     "data": {
      "text/plain": [
       "<matplotlib.axes._subplots.AxesSubplot at 0x2a08e86ae80>"
      ]
     },
     "execution_count": 18,
     "metadata": {},
     "output_type": "execute_result"
    },
    {
     "data": {
      "image/png": "[encoded data removed]",
      "text/plain": [
       "<Figure size 720x720 with 1 Axes>"
      ]
     },
     "metadata": {
      "needs_background": "light"
     },
     "output_type": "display_data"
    }
   ],
   "source": [
    "lgb.plot_importance(model, figsize=(10,10))"
   ]
  },
  {
   "cell_type": "code",
   "execution_count": null,
   "metadata": {},
   "outputs": [],
   "source": []
  }
 ],
 "metadata": {
  "hide_input": false,
  "kernelspec": {
   "display_name": "Python 3",
   "language": "python",
   "name": "python3"
  },
  "language_info": {
   "codemirror_mode": {
    "name": "ipython",
    "version": 3
   },
   "file_extension": ".py",
   "mimetype": "text/x-python",
   "name": "python",
   "nbconvert_exporter": "python",
   "pygments_lexer": "ipython3",
   "version": "3.7.1"
  },
  "toc": {
   "base_numbering": 1,
   "nav_menu": {},
   "number_sections": true,
   "sideBar": true,
   "skip_h1_title": false,
   "title_cell": "Table of Contents",
   "title_sidebar": "Contents",
   "toc_cell": false,
   "toc_position": {},
   "toc_section_display": true,
   "toc_window_display": false
  },
  "varInspector": {
   "cols": {
    "lenName": 16,
    "lenType": 16,
    "lenVar": 40
   },
   "kernels_config": {
    "python": {
     "delete_cmd_postfix": "",
     "delete_cmd_prefix": "del ",
     "library": "var_list.py",
     "varRefreshCmd": "print(var_dic_list())"
    },
    "r": {
     "delete_cmd_postfix": ") ",
     "delete_cmd_prefix": "rm(",
     "library": "var_list.r",
     "varRefreshCmd": "cat(var_dic_list()) "
    }
   },
   "types_to_exclude": [
    "module",
    "function",
    "builtin_function_or_method",
    "instance",
    "_Feature"
   ],
   "window_display": false
  }
 },
 "nbformat": 4,
 "nbformat_minor": 4
}
